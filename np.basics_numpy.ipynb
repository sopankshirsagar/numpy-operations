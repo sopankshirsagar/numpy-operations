{
 "cells": [
  {
   "cell_type": "code",
   "execution_count": 1,
   "id": "06cb52c6",
   "metadata": {},
   "outputs": [],
   "source": [
    "import numpy as np "
   ]
  },
  {
   "cell_type": "code",
   "execution_count": 2,
   "id": "cef9691a",
   "metadata": {},
   "outputs": [
    {
     "data": {
      "text/plain": [
       "array([1, 2, 3, 4, 5])"
      ]
     },
     "execution_count": 2,
     "metadata": {},
     "output_type": "execute_result"
    }
   ],
   "source": [
    "arr=np.array([1,2,3,4,5])  #array \n",
    "arr"
   ]
  },
  {
   "cell_type": "code",
   "execution_count": 3,
   "id": "0f3a6451",
   "metadata": {},
   "outputs": [
    {
     "data": {
      "text/plain": [
       "array([[1, 2, 3],\n",
       "       [4, 3, 2]])"
      ]
     },
     "execution_count": 3,
     "metadata": {},
     "output_type": "execute_result"
    }
   ],
   "source": [
    "arr2=np.array([[1,2,3],[4,3,2]])  #ndimentional array\n",
    "arr2"
   ]
  },
  {
   "cell_type": "code",
   "execution_count": 4,
   "id": "a33fa1f3",
   "metadata": {},
   "outputs": [
    {
     "data": {
      "text/plain": [
       "2"
      ]
     },
     "execution_count": 4,
     "metadata": {},
     "output_type": "execute_result"
    }
   ],
   "source": [
    "arr3=np.array([[1,2,3],[2,3,4],[7,5,4]])\n",
    "arr3.ndim  #ndim find the dimention of array"
   ]
  },
  {
   "cell_type": "code",
   "execution_count": 5,
   "id": "8a443cad",
   "metadata": {},
   "outputs": [
    {
     "data": {
      "text/plain": [
       "(4, 'bytes')"
      ]
     },
     "execution_count": 5,
     "metadata": {},
     "output_type": "execute_result"
    }
   ],
   "source": [
    "#find the size of each data item \n",
    "arr3.itemsize,\"bytes\"\n"
   ]
  },
  {
   "cell_type": "code",
   "execution_count": 6,
   "id": "00a4b867",
   "metadata": {},
   "outputs": [
    {
     "data": {
      "text/plain": [
       "9"
      ]
     },
     "execution_count": 6,
     "metadata": {},
     "output_type": "execute_result"
    }
   ],
   "source": [
    "#shape and size of array\n",
    "arr3.size"
   ]
  },
  {
   "cell_type": "code",
   "execution_count": 7,
   "id": "cf7a757d",
   "metadata": {},
   "outputs": [
    {
     "data": {
      "text/plain": [
       "(3, 3)"
      ]
     },
     "execution_count": 7,
     "metadata": {},
     "output_type": "execute_result"
    }
   ],
   "source": [
    "arr3.shape"
   ]
  },
  {
   "cell_type": "code",
   "execution_count": 8,
   "id": "9a698e17",
   "metadata": {},
   "outputs": [
    {
     "data": {
      "text/plain": [
       "array([[1],\n",
       "       [2],\n",
       "       [3],\n",
       "       [2],\n",
       "       [3],\n",
       "       [4],\n",
       "       [7],\n",
       "       [5],\n",
       "       [4]])"
      ]
     },
     "execution_count": 8,
     "metadata": {},
     "output_type": "execute_result"
    }
   ],
   "source": [
    "#reshaping the array object \n",
    "arr3.reshape(9,1)"
   ]
  },
  {
   "cell_type": "code",
   "execution_count": 9,
   "id": "a4e20906",
   "metadata": {},
   "outputs": [
    {
     "data": {
      "text/plain": [
       "4"
      ]
     },
     "execution_count": 9,
     "metadata": {},
     "output_type": "execute_result"
    }
   ],
   "source": [
    "#slicing in array\n",
    "arr3[0,1]\n",
    "arr3[1,2]"
   ]
  },
  {
   "cell_type": "code",
   "execution_count": 10,
   "id": "af2da35f",
   "metadata": {},
   "outputs": [
    {
     "data": {
      "text/plain": [
       "array([2. , 2.5, 3. , 3.5, 4. ])"
      ]
     },
     "execution_count": 10,
     "metadata": {},
     "output_type": "execute_result"
    }
   ],
   "source": [
    "#linspace evenly space \n",
    "a=np.linspace(2,4,5)\n",
    "a"
   ]
  },
  {
   "cell_type": "code",
   "execution_count": 11,
   "id": "e9b8e7bc",
   "metadata": {},
   "outputs": [
    {
     "data": {
      "text/plain": [
       "154"
      ]
     },
     "execution_count": 11,
     "metadata": {},
     "output_type": "execute_result"
    }
   ],
   "source": [
    "#max min sum \n",
    "a=np.array([22,3,4,5,6,7,99,8])\n",
    "a.max()\n",
    "a.min()\n",
    "a.sum()"
   ]
  },
  {
   "cell_type": "code",
   "execution_count": 12,
   "id": "f5f5bf0d",
   "metadata": {},
   "outputs": [
    {
     "data": {
      "text/plain": [
       "array([[1, 2, 3],\n",
       "       [2, 3, 4],\n",
       "       [7, 5, 4]])"
      ]
     },
     "execution_count": 12,
     "metadata": {},
     "output_type": "execute_result"
    }
   ],
   "source": [
    "#numpy array axis, axis 1 = rows, axis 0 = columns\n",
    "arr3"
   ]
  },
  {
   "cell_type": "code",
   "execution_count": 13,
   "id": "32bd64cd",
   "metadata": {},
   "outputs": [
    {
     "data": {
      "text/plain": [
       "array([1, 2, 4])"
      ]
     },
     "execution_count": 13,
     "metadata": {},
     "output_type": "execute_result"
    }
   ],
   "source": [
    "arr3.max(axis=0) \n",
    "arr3.max(axis=1)\n",
    "arr3.min(axis=0)\n",
    "arr3.min(axis=1)"
   ]
  },
  {
   "cell_type": "code",
   "execution_count": 14,
   "id": "52e4132c",
   "metadata": {},
   "outputs": [
    {
     "data": {
      "text/plain": [
       "1.7069212773041353"
      ]
     },
     "execution_count": 14,
     "metadata": {},
     "output_type": "execute_result"
    }
   ],
   "source": [
    "#square root standard deviation\n",
    "np.sqrt(arr3)\n",
    "np.std(arr3)"
   ]
  },
  {
   "cell_type": "code",
   "execution_count": 15,
   "id": "2ecc4052",
   "metadata": {},
   "outputs": [],
   "source": [
    "#arithmetic operations\n",
    "# + -*/\n"
   ]
  },
  {
   "cell_type": "code",
   "execution_count": 16,
   "id": "0c16a7eb",
   "metadata": {},
   "outputs": [
    {
     "data": {
      "text/plain": [
       "array([[  1,   2, 344,   1,   2,  32],\n",
       "       [ 10,  15,   4,  12,  19,  29]])"
      ]
     },
     "execution_count": 16,
     "metadata": {},
     "output_type": "execute_result"
    }
   ],
   "source": [
    "#array concatination/ arrange or link \n",
    "a = np.array([[1,2,344],[10,15,4]])  \n",
    "b = np.array([[1,2,32],[12, 19, 29]]) \n",
    "np.vstack((a,b)) #vertically \n",
    "np.hstack((a,b))  # horizontally \n"
   ]
  },
  {
   "cell_type": "code",
   "execution_count": 17,
   "id": "94ff48a4",
   "metadata": {},
   "outputs": [
    {
     "data": {
      "text/plain": [
       "array([[ 627415760,        415],\n",
       "       [ 627415856,        415],\n",
       "       [1946640134, 2080406536]])"
      ]
     },
     "execution_count": 17,
     "metadata": {},
     "output_type": "execute_result"
    }
   ],
   "source": [
    "#empty array \n",
    "arr=np.empty((3,2),dtype=int)\n",
    "arr"
   ]
  },
  {
   "cell_type": "code",
   "execution_count": 18,
   "id": "0be4d572",
   "metadata": {},
   "outputs": [
    {
     "data": {
      "text/plain": [
       "array([[0, 0],\n",
       "       [0, 0],\n",
       "       [0, 0]])"
      ]
     },
     "execution_count": 18,
     "metadata": {},
     "output_type": "execute_result"
    }
   ],
   "source": [
    "#zero array \n",
    "arr=np.zeros((3,2),dtype=int)\n",
    "arr"
   ]
  },
  {
   "cell_type": "code",
   "execution_count": 19,
   "id": "74ae463a",
   "metadata": {},
   "outputs": [
    {
     "data": {
      "text/plain": [
       "array([[1., 1.],\n",
       "       [1., 1.],\n",
       "       [1., 1.]])"
      ]
     },
     "execution_count": 19,
     "metadata": {},
     "output_type": "execute_result"
    }
   ],
   "source": [
    "#ones \n",
    "np.ones((3,2),dtype=float)"
   ]
  },
  {
   "cell_type": "code",
   "execution_count": 20,
   "id": "6dd94692",
   "metadata": {},
   "outputs": [
    {
     "data": {
      "text/plain": [
       "numpy.ndarray"
      ]
     },
     "execution_count": 20,
     "metadata": {},
     "output_type": "execute_result"
    }
   ],
   "source": [
    "#creat np array using list /tuple /more than one list \n",
    "i=[1,2,3,4,5,6]\n",
    "np.asarray(i)\n",
    "type(a)"
   ]
  },
  {
   "cell_type": "code",
   "execution_count": 21,
   "id": "953e901b",
   "metadata": {},
   "outputs": [
    {
     "data": {
      "text/plain": [
       "array([1., 2., 3., 4., 5., 6.])"
      ]
     },
     "execution_count": 21,
     "metadata": {},
     "output_type": "execute_result"
    }
   ],
   "source": [
    "# iterable one dimention\n",
    "i=[1,2,3,4,5,6]\n",
    "it=iter(i)\n",
    "x=np.fromiter(it,dtype=float)\n",
    "x"
   ]
  },
  {
   "cell_type": "code",
   "execution_count": 22,
   "id": "a72823b1",
   "metadata": {},
   "outputs": [
    {
     "data": {
      "text/plain": [
       "array([1, 3, 5, 7, 9])"
      ]
     },
     "execution_count": 22,
     "metadata": {},
     "output_type": "execute_result"
    }
   ],
   "source": [
    "#range \n",
    "np.arange(1,10,2)"
   ]
  },
  {
   "cell_type": "code",
   "execution_count": 23,
   "id": "6bb04659",
   "metadata": {},
   "outputs": [
    {
     "data": {
      "text/plain": [
       "array([10. , 12.5, 15. , 17.5, 20. ])"
      ]
     },
     "execution_count": 23,
     "metadata": {},
     "output_type": "execute_result"
    }
   ],
   "source": [
    "#separated values /separet /part\n",
    "np.linspace(10,20,5)"
   ]
  },
  {
   "cell_type": "code",
   "execution_count": 24,
   "id": "a04ce516",
   "metadata": {},
   "outputs": [
    {
     "data": {
      "text/plain": [
       "array([10., 12., 14., 16., 18.])"
      ]
     },
     "execution_count": 24,
     "metadata": {},
     "output_type": "execute_result"
    }
   ],
   "source": [
    "#end false \n",
    "np.linspace(10,20,5,endpoint=False)"
   ]
  },
  {
   "cell_type": "code",
   "execution_count": 25,
   "id": "58c64b38",
   "metadata": {},
   "outputs": [
    {
     "data": {
      "text/plain": [
       "array([1.00000000e+10, 3.16227766e+12, 1.00000000e+15, 3.16227766e+17,\n",
       "       1.00000000e+20])"
      ]
     },
     "execution_count": 25,
     "metadata": {},
     "output_type": "execute_result"
    }
   ],
   "source": [
    "#seperate on log scale\n",
    "np.logspace(10,20,num=5,endpoint=True)"
   ]
  },
  {
   "cell_type": "code",
   "execution_count": 26,
   "id": "12e21225",
   "metadata": {},
   "outputs": [
    {
     "name": "stdout",
     "output_type": "stream",
     "text": [
      "1 2 3 33 22 11 5 6 7 "
     ]
    }
   ],
   "source": [
    "#iteration \n",
    "a=np.array([[1,2,3],[33,22,11],[5,6,7]])\n",
    "\n",
    "for i in np.nditer(a):\n",
    "    print(i,end=\" \")"
   ]
  },
  {
   "cell_type": "code",
   "execution_count": 27,
   "id": "e3af7a3a",
   "metadata": {
    "collapsed": true
   },
   "outputs": [
    {
     "data": {
      "text/plain": [
       "array([[ 1, 33,  5],\n",
       "       [ 2, 22,  6],\n",
       "       [ 3, 11,  7]])"
      ]
     },
     "execution_count": 27,
     "metadata": {},
     "output_type": "execute_result"
    }
   ],
   "source": [
    "#transpose changing rows to columns\n",
    "ar=np.array([[1,2,3,4],[5,6,7,8],[9,33,44,55]])\n",
    "br=a.T\n",
    "br"
   ]
  },
  {
   "cell_type": "code",
   "execution_count": 42,
   "id": "22f1b875",
   "metadata": {},
   "outputs": [
    {
     "name": "stdout",
     "output_type": "stream",
     "text": [
      "['hello', 'chanel', 'welcome', 'to', 'my', 'guys']\n"
     ]
    }
   ],
   "source": [
    "#strung operations \n",
    "np.char.multiply(\"hello\",4)\n",
    "np.char.add(['wellcome ','hello '],['to the numpy','how are youu hahha'])\n",
    "print(np.char.split('hello chanel welcome to my guys'),sep= \"\")"
   ]
  },
  {
   "cell_type": "code",
   "execution_count": 48,
   "id": "a097294c",
   "metadata": {},
   "outputs": [
    {
     "data": {
      "text/plain": [
       "array([[ 1,  2, 49],\n",
       "       [35, 44, 99]])"
      ]
     },
     "execution_count": 48,
     "metadata": {},
     "output_type": "execute_result"
    }
   ],
   "source": [
    "#sorting \n",
    "a=np.array([[1,49,2],[99,44,35]])\n",
    "a\n",
    "np.sort(a)\n",
    "np.sort(a,0)\n",
    "np.sort(a,1)"
   ]
  },
  {
   "cell_type": "code",
   "execution_count": null,
   "id": "6df0a28e",
   "metadata": {},
   "outputs": [],
   "source": []
  },
  {
   "cell_type": "code",
   "execution_count": null,
   "id": "5a8635c8",
   "metadata": {},
   "outputs": [],
   "source": []
  }
 ],
 "metadata": {
  "kernelspec": {
   "display_name": "Python 3 (ipykernel)",
   "language": "python",
   "name": "python3"
  },
  "language_info": {
   "codemirror_mode": {
    "name": "ipython",
    "version": 3
   },
   "file_extension": ".py",
   "mimetype": "text/x-python",
   "name": "python",
   "nbconvert_exporter": "python",
   "pygments_lexer": "ipython3",
   "version": "3.10.7"
  }
 },
 "nbformat": 4,
 "nbformat_minor": 5
}
